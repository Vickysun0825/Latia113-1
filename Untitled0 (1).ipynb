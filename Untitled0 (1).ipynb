{
  "nbformat": 4,
  "nbformat_minor": 0,
  "metadata": {
    "colab": {
      "provenance": []
    },
    "kernelspec": {
      "name": "python3",
      "display_name": "Python 3"
    },
    "language_info": {
      "name": "python"
    }
  },
  "cells": [
    {
      "cell_type": "code",
      "source": [
        "print('HELLO WROLD')"
      ],
      "metadata": {
        "colab": {
          "base_uri": "https://localhost:8080/"
        },
        "id": "YRa-p-1sQ3ns",
        "outputId": "2bbe9150-fe89-46cd-d0ef-f675ea720dbe"
      },
      "execution_count": null,
      "outputs": [
        {
          "output_type": "stream",
          "name": "stdout",
          "text": [
            "HELLO WROLD\n"
          ]
        }
      ]
    },
    {
      "cell_type": "code",
      "source": [
        "a=1\n",
        "b=c=a\n",
        "print(a,b,c)"
      ],
      "metadata": {
        "colab": {
          "base_uri": "https://localhost:8080/"
        },
        "id": "NecN8_yJST-7",
        "outputId": "7011baea-d260-4840-aa85-956f4456b9de"
      },
      "execution_count": null,
      "outputs": [
        {
          "output_type": "stream",
          "name": "stdout",
          "text": [
            "1 1 1\n"
          ]
        }
      ]
    },
    {
      "cell_type": "code",
      "source": [
        "a=1\n",
        "b=a\n",
        "a=2\n",
        "print(a,b)"
      ],
      "metadata": {
        "colab": {
          "base_uri": "https://localhost:8080/"
        },
        "id": "90ANjQuIS6wL",
        "outputId": "cb796f9d-dccf-41f4-8293-ed6355c78051"
      },
      "execution_count": null,
      "outputs": [
        {
          "output_type": "stream",
          "name": "stdout",
          "text": [
            "2 1\n"
          ]
        }
      ]
    },
    {
      "cell_type": "code",
      "source": [
        "print('Vicky is my name')"
      ],
      "metadata": {
        "colab": {
          "base_uri": "https://localhost:8080/"
        },
        "id": "VRfS9v53TpbZ",
        "outputId": "753293df-5ce3-4b67-dffa-2a3967d703d9"
      },
      "execution_count": null,
      "outputs": [
        {
          "output_type": "stream",
          "name": "stdout",
          "text": [
            "Vicky is my name\n"
          ]
        }
      ]
    },
    {
      "cell_type": "code",
      "source": [
        "a=\"\"\"i need to go hd iofaiaob dfoyvbaiurfhihpeuwiscbn aivbabfipfuhnpunbvpiubiygfihiephfipvnbipfbviupbfipbipb\n",
        "aofijoafbvifbcvfodvnoaphfhwiushibvbvknlnvnsodvoidjosihbvifbibadvknkjnvnlsmlfoijsoidfjioehfdvnvknjnslanvklsdklnvninuvsooavfo ofndv\n",
        "ofnodnvoniunuirhpofeowsdnvnlnfoihojewjpfpkasl;m;lmlkmckldsjofijohwfuhewifibivbfkjnkjnfknsdnfknefnskdnfksndjkfbeuiwfnlknlknvlkmlkmllndlaf\n",
        "lfnonflksdfklnskdfuehoisdjfmSfmlkndls;fnaph oijfslflkmmf;sjfoewhfunnsdfln;lanfpuebwnkfmlk;snfsahfohiwaesnf;sfma;lfm;lnaihf;oaweonfklmdf;m\n",
        "ifna;onfsknlf;knnfnsknflk;ans;lfnl;snf;nsfnlsanf;lsn;flna;snfsdnkfnd\"\"\"\n",
        "print(a)"
      ],
      "metadata": {
        "colab": {
          "base_uri": "https://localhost:8080/"
        },
        "id": "yilevCaSTurN",
        "outputId": "37af864a-5775-4146-d3f4-bf1aab8842f8"
      },
      "execution_count": null,
      "outputs": [
        {
          "output_type": "stream",
          "name": "stdout",
          "text": [
            "i need to go hd iofaiaob dfoyvbaiurfhihpeuwiscbn aivbabfipfuhnpunbvpiubiygfihiephfipvnbipfbviupbfipbipb\n",
            "aofijoafbvifbcvfodvnoaphfhwiushibvbvknlnvnsodvoidjosihbvifbibadvknkjnvnlsmlfoijsoidfjioehfdvnvknjnslanvklsdklnvninuvsooavfo ofndv\n",
            "ofnodnvoniunuirhpofeowsdnvnlnfoihojewjpfpkasl;m;lmlkmckldsjofijohwfuhewifibivbfkjnkjnfknsdnfknefnskdnfksndjkfbeuiwfnlknlknvlkmlkmllndlaf\n",
            "lfnonflksdfklnskdfuehoisdjfmSfmlkndls;fnaph oijfslflkmmf;sjfoewhfunnsdfln;lanfpuebwnkfmlk;snfsahfohiwaesnf;sfma;lfm;lnaihf;oaweonfklmdf;m\n",
            "ifna;onfsknlf;knnfnsknflk;ans;lfnl;snf;nsfnlsanf;lsn;flna;snfsdnkfnd\n"
          ]
        }
      ]
    },
    {
      "cell_type": "code",
      "source": [
        " a = \"0123456789abcdef\"\n",
        "print(a[0])\n",
        "print(a[3])\n",
        "print(a[-1])\n",
        "print(a[:])\n",
        "print(a[5:])\n",
        "print(a[:5])\n",
        "print(a[5:10])\n",
        "print(a[8])\n",
        "print(a[5:-3])\n",
        "print(a[5:10:2])\n",
        "print(a[10])\n",
        "print(a[0:2])\n",
        "print(a[5:-3])"
      ],
      "metadata": {
        "colab": {
          "base_uri": "https://localhost:8080/"
        },
        "id": "4hvy7iT_UtWD",
        "outputId": "39cee045-a557-46d7-a274-9fd3d15a98c8"
      },
      "execution_count": null,
      "outputs": [
        {
          "output_type": "stream",
          "name": "stdout",
          "text": [
            "0\n",
            "3\n",
            "f\n",
            "0123456789abcdef\n",
            "56789abcdef\n",
            "01234\n",
            "56789\n",
            "8\n",
            "56789abc\n",
            "579\n",
            "a\n",
            "01\n",
            "56789abc\n"
          ]
        }
      ]
    },
    {
      "cell_type": "code",
      "source": [
        "a=\"HELLO WOLRD\"\n",
        "print(len(a))"
      ],
      "metadata": {
        "colab": {
          "base_uri": "https://localhost:8080/"
        },
        "id": "UpwDtuQLV0TA",
        "outputId": "ae1009b0-8cb8-4750-d6d6-d191ca8913e6"
      },
      "execution_count": null,
      "outputs": [
        {
          "output_type": "stream",
          "name": "stdout",
          "text": [
            "11\n"
          ]
        }
      ]
    },
    {
      "cell_type": "code",
      "source": [
        " a = 'hello world, I am oxxo, how are you?'\n",
        " b=a.split(\",\")\n",
        " c=a.split(\" \")\n",
        " d=a.split()\n",
        " print(b)\n",
        " print(c)\n",
        " print(d)"
      ],
      "metadata": {
        "colab": {
          "base_uri": "https://localhost:8080/"
        },
        "id": "kTD1Or85XXXX",
        "outputId": "2279fe81-86d8-4802-fc47-6db015502d9b"
      },
      "execution_count": null,
      "outputs": [
        {
          "output_type": "stream",
          "name": "stdout",
          "text": [
            "['hello world', ' I am oxxo', ' how are you?']\n",
            "['hello', 'world,', 'I', 'am', 'oxxo,', 'how', 'are', 'you?']\n",
            "['hello', 'world,', 'I', 'am', 'oxxo,', 'how', 'are', 'you?']\n"
          ]
        }
      ]
    },
    {
      "cell_type": "code",
      "source": [
        "t = ('apple','banana','orange','grap')\n",
        "a,b,c,d=t\n",
        "print(a,b,c,d)\n",
        "print(t[0])\n",
        "print(t[1])\n",
        "print(t[2])\n",
        "print(t[3])\n"
      ],
      "metadata": {
        "colab": {
          "base_uri": "https://localhost:8080/"
        },
        "id": "8O2HMh28datA",
        "outputId": "1d1467ff-a9a8-40a2-ccf1-ef77f4621a09"
      },
      "execution_count": null,
      "outputs": [
        {
          "output_type": "stream",
          "name": "stdout",
          "text": [
            "apple banana orange grap\n",
            "apple\n",
            "banana\n",
            "orange\n",
            "grap\n"
          ]
        }
      ]
    },
    {
      "cell_type": "code",
      "source": [
        " t1 = ('apple','banana','orange')\n",
        " t2 = ('grap','pineapple')\n",
        " t=t1+t2\n",
        " print(t)"
      ],
      "metadata": {
        "colab": {
          "base_uri": "https://localhost:8080/"
        },
        "id": "jhrnxLq4eFMu",
        "outputId": "56a0c5a4-c5ca-455a-b583-2b584ca90509"
      },
      "execution_count": null,
      "outputs": [
        {
          "output_type": "stream",
          "name": "stdout",
          "text": [
            "('apple', 'banana', 'orange', 'grap', 'pineapple')\n"
          ]
        }
      ]
    },
    {
      "cell_type": "code",
      "source": [
        "a = dict(name='oxxo', age=18, eat=['apple','banana'])\n",
        "print(a)\n",
        "print(type(a))"
      ],
      "metadata": {
        "colab": {
          "base_uri": "https://localhost:8080/"
        },
        "id": "EqJhE4BDdav7",
        "outputId": "4d483ca7-b62a-4628-ac36-0035d00da1b3"
      },
      "execution_count": null,
      "outputs": [
        {
          "output_type": "stream",
          "name": "stdout",
          "text": [
            "{'name': 'oxxo', 'age': 18, 'eat': ['apple', 'banana']}\n",
            "<class 'dict'>\n"
          ]
        }
      ]
    },
    {
      "cell_type": "code",
      "source": [
        "a = set()\n",
        "b = set([1,2,3,4,5,1,2,3,4,5])\n",
        "c = set({'x':1,'y':2,'z':3})\n",
        "d = set('hello')\n",
        "print(a,b,c,d)"
      ],
      "metadata": {
        "colab": {
          "base_uri": "https://localhost:8080/"
        },
        "id": "zgEuyqWSgd1m",
        "outputId": "9065908a-459e-4ddd-f95d-207b4af474b4"
      },
      "execution_count": null,
      "outputs": [
        {
          "output_type": "stream",
          "name": "stdout",
          "text": [
            "set() {1, 2, 3, 4, 5} {'x', 'z', 'y'} {'h', 'l', 'e', 'o'}\n"
          ]
        }
      ]
    },
    {
      "cell_type": "code",
      "source": [
        "a=2\n",
        "b=3\n",
        "if a>b:\n",
        "  print(\"HELLO WORLD\")\n",
        "else:\n",
        "  print(\"OK\")"
      ],
      "metadata": {
        "colab": {
          "base_uri": "https://localhost:8080/"
        },
        "id": "xiPKfcaWnmaO",
        "outputId": "efeeacfd-61e9-4689-da52-60c214f1acb6"
      },
      "execution_count": null,
      "outputs": [
        {
          "output_type": "stream",
          "name": "stdout",
          "text": [
            "OK\n"
          ]
        }
      ]
    },
    {
      "cell_type": "code",
      "source": [
        "a=2\n",
        "b=3\n",
        "if(a<b):\n",
        "  print('a<b')\n",
        "  if a==1:\n",
        "    print('a=1')\n",
        "  if a==2:\n",
        "    print('a=2')\n",
        "  if a==3:\n",
        "    print('a=3')\n",
        "elif(a>b):\n",
        "  print('a>b')\n",
        "else:\n",
        "  print('a=b')\n",
        "print('OK')"
      ],
      "metadata": {
        "colab": {
          "base_uri": "https://localhost:8080/"
        },
        "id": "vKzx6swdoKK2",
        "outputId": "dbf10d29-57d3-413c-a2a7-8667e9d05854"
      },
      "execution_count": null,
      "outputs": [
        {
          "output_type": "stream",
          "name": "stdout",
          "text": [
            "a<b\n",
            "a=2\n",
            "OK\n"
          ]
        }
      ]
    },
    {
      "cell_type": "code",
      "source": [
        " a = 2\n",
        " b = 3\n",
        " c = 0\n",
        "if a>b or a<c and a==2 or b==4:\n",
        "  print('OK1')\n",
        "else:\n",
        "  print('XXX')"
      ],
      "metadata": {
        "colab": {
          "base_uri": "https://localhost:8080/"
        },
        "id": "xJ9WSwtzpFp9",
        "outputId": "ec140774-74f2-46c5-8f2d-ba80b01689de"
      },
      "execution_count": null,
      "outputs": [
        {
          "output_type": "stream",
          "name": "stdout",
          "text": [
            "XXX\n"
          ]
        }
      ]
    },
    {
      "cell_type": "code",
      "source": [
        "for i in 'abc':\n",
        "  print(i)"
      ],
      "metadata": {
        "colab": {
          "base_uri": "https://localhost:8080/"
        },
        "id": "9x9Hq7xZoibG",
        "outputId": "130cca47-7635-4897-8ab3-fcec88a06fe4"
      },
      "execution_count": null,
      "outputs": [
        {
          "output_type": "stream",
          "name": "stdout",
          "text": [
            "a\n",
            "b\n",
            "c\n"
          ]
        }
      ]
    },
    {
      "cell_type": "code",
      "source": [
        "for i in [\"x\",'y','z']:\n",
        "  for b in [1,2,3]:\n",
        "    print(b)\n",
        "print(i)"
      ],
      "metadata": {
        "colab": {
          "base_uri": "https://localhost:8080/"
        },
        "id": "XartCTRrp0rJ",
        "outputId": "53755b1f-7fee-44c4-dbd7-50337fd9764e"
      },
      "execution_count": 59,
      "outputs": [
        {
          "output_type": "stream",
          "name": "stdout",
          "text": [
            "1\n",
            "2\n",
            "3\n",
            "1\n",
            "2\n",
            "3\n",
            "1\n",
            "2\n",
            "3\n",
            "z\n"
          ]
        }
      ]
    },
    {
      "cell_type": "code",
      "source": [
        "for a in ['x','y','z']:\n",
        "  for b in [1,2,3]:\n",
        "    print(f'{a}{b}')\n",
        "  print(a)"
      ],
      "metadata": {
        "colab": {
          "base_uri": "https://localhost:8080/"
        },
        "id": "CIFrwWvMqaJk",
        "outputId": "7d8962c8-f715-4076-f8aa-4654195b676e"
      },
      "execution_count": 57,
      "outputs": [
        {
          "output_type": "stream",
          "name": "stdout",
          "text": [
            "x1\n",
            "x2\n",
            "x3\n",
            "x\n",
            "y1\n",
            "y2\n",
            "y3\n",
            "y\n",
            "z1\n",
            "z2\n",
            "z3\n",
            "z\n"
          ]
        }
      ]
    },
    {
      "cell_type": "code",
      "source": [
        "i=[]\n",
        "for t in range(10):\n",
        "  t=t+1\n",
        "  i.append(t)\n",
        "print(i)"
      ],
      "metadata": {
        "id": "ebun-scbqaTS",
        "colab": {
          "base_uri": "https://localhost:8080/"
        },
        "outputId": "d27471b4-db9b-4f5b-8197-38c945ad6909"
      },
      "execution_count": 53,
      "outputs": [
        {
          "output_type": "stream",
          "name": "stdout",
          "text": [
            "[1, 2, 3, 4, 5, 6, 7, 8, 9, 10]\n"
          ]
        }
      ]
    },
    {
      "cell_type": "code",
      "source": [
        "try:\n",
        "  a = input('輸入數字:')\n",
        "  print(a+1)\n",
        "except:\n",
        "  pass\n",
        "print('HELLO')"
      ],
      "metadata": {
        "colab": {
          "base_uri": "https://localhost:8080/"
        },
        "id": "M2JiUAfgsjZJ",
        "outputId": "0490a095-0e5f-4199-a30c-61ffe84dd162"
      },
      "execution_count": 55,
      "outputs": [
        {
          "output_type": "stream",
          "name": "stdout",
          "text": [
            "輸入數字:5\n",
            "HELLO\n"
          ]
        }
      ]
    },
    {
      "cell_type": "code",
      "source": [
        "a=[]\n",
        "for i in range(1,10):\n",
        "  a.append(i*i)\n",
        "print(a)\n",
        "b = [j*j for j in range(1,10)]\n",
        "print(b)"
      ],
      "metadata": {
        "colab": {
          "base_uri": "https://localhost:8080/"
        },
        "id": "fjWmWI54sxsr",
        "outputId": "af32cadd-6f3d-41e9-db29-137a3ec7d2a9"
      },
      "execution_count": 61,
      "outputs": [
        {
          "output_type": "stream",
          "name": "stdout",
          "text": [
            "[1, 4, 9, 16, 25, 36, 49, 64, 81]\n",
            "[1, 4, 9, 16, 25, 36, 49, 64, 81]\n"
          ]
        }
      ]
    }
  ]
}